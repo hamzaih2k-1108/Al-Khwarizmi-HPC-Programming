{
  "cells": [
    {
      "cell_type": "markdown",
      "id": "52c638b8",
      "metadata": {
        "id": "52c638b8"
      },
      "source": [
        "## Exercise 1:\n"
      ]
    },
    {
      "cell_type": "code",
      "execution_count": 1,
      "id": "ab844fca",
      "metadata": {
        "colab": {
          "base_uri": "https://localhost:8080/",
          "height": 437
        },
        "id": "ab844fca",
        "outputId": "142ca8da-91da-4451-86a8-11b271ac087b"
      },
      "outputs": [
        {
          "output_type": "error",
          "ename": "ModuleNotFoundError",
          "evalue": "ignored",
          "traceback": [
            "\u001b[0;31m---------------------------------------------------------------------------\u001b[0m",
            "\u001b[0;31mModuleNotFoundError\u001b[0m                       Traceback (most recent call last)",
            "\u001b[0;32m<ipython-input-1-96befa6e8db1>\u001b[0m in \u001b[0;36m<module>\u001b[0;34m()\u001b[0m\n\u001b[1;32m      4\u001b[0m \u001b[0;32mimport\u001b[0m \u001b[0mtime\u001b[0m\u001b[0;34m\u001b[0m\u001b[0;34m\u001b[0m\u001b[0m\n\u001b[1;32m      5\u001b[0m \u001b[0;34m\u001b[0m\u001b[0m\n\u001b[0;32m----> 6\u001b[0;31m \u001b[0;32mfrom\u001b[0m \u001b[0mpyccel\u001b[0m\u001b[0;34m.\u001b[0m\u001b[0mepyccel\u001b[0m \u001b[0;32mimport\u001b[0m \u001b[0mepyccel\u001b[0m\u001b[0;34m\u001b[0m\u001b[0;34m\u001b[0m\u001b[0m\n\u001b[0m\u001b[1;32m      7\u001b[0m \u001b[0;32mfrom\u001b[0m \u001b[0mpyccel\u001b[0m\u001b[0;34m.\u001b[0m\u001b[0mdecorators\u001b[0m \u001b[0;32mimport\u001b[0m \u001b[0mtypes\u001b[0m\u001b[0;34m\u001b[0m\u001b[0;34m\u001b[0m\u001b[0m\n",
            "\u001b[0;31mModuleNotFoundError\u001b[0m: No module named 'pyccel'",
            "",
            "\u001b[0;31m---------------------------------------------------------------------------\u001b[0;32m\nNOTE: If your import is failing due to a missing package, you can\nmanually install dependencies using either !pip or !apt.\n\nTo view examples of installing some common dependencies, click the\n\"Open Examples\" button below.\n\u001b[0;31m---------------------------------------------------------------------------\u001b[0m\n"
          ],
          "errorDetails": {
            "actions": [
              {
                "action": "open_url",
                "actionText": "Open Examples",
                "url": "/notebooks/snippets/importing_libraries.ipynb"
              }
            ]
          }
        }
      ],
      "source": [
        "import numpy as np\n",
        "import matplotlib.pyplot as plt\n",
        "\n",
        "import time\n",
        "\n",
        "from pyccel.epyccel import epyccel\n",
        "from pyccel.decorators import types"
      ]
    },
    {
      "cell_type": "code",
      "execution_count": null,
      "id": "719e5833",
      "metadata": {
        "id": "719e5833"
      },
      "outputs": [],
      "source": [
        "%%file Ex1.py\n",
        "\n",
        "@types('float[:,:]','float[:,:]','float[:,:]','float[:,:]','int','float','float','float')\n",
        "def solve_2d_nonlinearconv_pure(u, un, v, vn, nt, dt, dx, dy):\n",
        "\n",
        "    u[int(.5 / dy):int(1 / dy + 1), int(.5 / dx):int(1 / dx + 1)] = 2\n",
        "    v[int(.5 / dy):int(1 / dy + 1), int(.5 / dx):int(1 / dx + 1)] = 2\n",
        "    row, col = u.shape\n",
        "    \n",
        "    #$ omp parallel\n",
        "    for n in range(nt):\n",
        "        #pragma omp for collapse(2)\n",
        "        for i in range (row):\n",
        "            for j in range(col):\n",
        "                un[i,j] = u[i,j]\n",
        "                vn[i,j] = v[i,j]\n",
        "        #pragma omp for collapse(2)\n",
        "        for i in range(1, row-1):\n",
        "            for j in range(1,col-1):\n",
        "                u[i,j] = un[i,j] - (un[i,j] *( dt / dx) * (un[i,j] - un[i-1,j])) - (vn[i,j] * (dt / dy) * (un[i,j] - un[i,j-1]))\n",
        "                v[i,j] = vn[i,j] - (un[i,j] * (dt / dx) * (vn[i,j] - vn[i-1,j])) -( vn[i,j] * (dt / dy) * (vn[i,j] - vn[i,j-1]))\n",
        "    #$ omp end parallel\n",
        "        \n",
        "    return 0\n",
        "if __name__ == \"__main__\" :\n",
        "    \n",
        "    nx = 90\n",
        "    ny = 90\n",
        "    nt = 70\n",
        "    dx = 2 / (nx - 1)\n",
        "    dy = 2 / (ny - 1)\n",
        "    sigma = .2\n",
        "    dt = sigma * dx\n",
        "\n",
        "\n",
        "    u = np.ones((ny, nx)) \n",
        "    v = np.ones((ny, nx))\n",
        "    un = np.ones((ny, nx))\n",
        "    vn = np.ones((ny, nx)) \n",
        "\n",
        "    solve_2d_nonlinearconv_pure(u, un, v, vn, nt, dt, dx, dy)\n"
      ]
    },
    {
      "cell_type": "code",
      "execution_count": null,
      "id": "8800932f",
      "metadata": {
        "id": "8800932f"
      },
      "outputs": [],
      "source": [
        "!pyccel Ex1.py --language=c --openmp"
      ]
    },
    {
      "cell_type": "code",
      "execution_count": null,
      "id": "7b28a621",
      "metadata": {
        "id": "7b28a621",
        "outputId": "b29c7ea7-6ba3-4efd-c534-b225672fa25e"
      },
      "outputs": [
        {
          "name": "stdout",
          "output_type": "stream",
          "text": [
            "CPU time       : 0.011417129999999887 \n",
            "\n"
          ]
        }
      ],
      "source": [
        "cpu_0 = time.process_time()"
      ]
    },
    {
      "cell_type": "code",
      "source": [
        "!export OMP_NUM_THREADS=2; ./Ex1"
      ],
      "metadata": {
        "id": "j0Kwaimus35d"
      },
      "id": "j0Kwaimus35d",
      "execution_count": null,
      "outputs": []
    },
    {
      "cell_type": "code",
      "source": [
        "cpu_1 = time.process_time()\n",
        "cpu = cpu_1 - cpu_0\n",
        "print(\"CPU time : \", cpu,'\\n')"
      ],
      "metadata": {
        "id": "gLY8_qZVszT_"
      },
      "id": "gLY8_qZVszT_",
      "execution_count": null,
      "outputs": []
    },
    {
      "cell_type": "code",
      "execution_count": null,
      "id": "1d61792a",
      "metadata": {
        "id": "1d61792a",
        "outputId": "13d0e0b0-fe47-4ec1-e1ce-d339ca3dc7f3"
      },
      "outputs": [
        {
          "name": "stdout",
          "output_type": "stream",
          "text": [
            "CPU time       : 0.009399354999999332 \n",
            "\n"
          ]
        }
      ],
      "source": [
        "cpu_0 = time.process_time()"
      ]
    },
    {
      "cell_type": "code",
      "source": [
        "!export OMP_NUM_THREADS=8; ./Ex1"
      ],
      "metadata": {
        "id": "eLzOYNrNtHjR"
      },
      "id": "eLzOYNrNtHjR",
      "execution_count": null,
      "outputs": []
    },
    {
      "cell_type": "code",
      "source": [
        "cpu_1 = time.process_time()\n",
        "cpu = cpu_1 - cpu_0\n",
        "print(\"CPU time       :\", cpu,        '\\n')"
      ],
      "metadata": {
        "id": "-YIpgzu3tFuG"
      },
      "id": "-YIpgzu3tFuG",
      "execution_count": null,
      "outputs": []
    },
    {
      "cell_type": "code",
      "execution_count": null,
      "id": "b8cccc04",
      "metadata": {
        "id": "b8cccc04"
      },
      "outputs": [],
      "source": [
        "I = np.arange(1,8,1)"
      ]
    },
    {
      "cell_type": "code",
      "execution_count": null,
      "id": "1440c6f1",
      "metadata": {
        "id": "1440c6f1",
        "outputId": "eed1df91-7676-497f-a49f-5233630f7053"
      },
      "outputs": [
        {
          "name": "stdout",
          "output_type": "stream",
          "text": [
            "\n",
            "libgomp: Invalid value for environment variable OMP_NUM_THREADS\n",
            "\n",
            "libgomp: Invalid value for environment variable OMP_NUM_THREADS\n",
            "\n",
            "libgomp: Invalid value for environment variable OMP_NUM_THREADS\n",
            "\n",
            "libgomp: Invalid value for environment variable OMP_NUM_THREADS\n",
            "\n",
            "libgomp: Invalid value for environment variable OMP_NUM_THREADS\n",
            "\n",
            "libgomp: Invalid value for environment variable OMP_NUM_THREADS\n",
            "\n",
            "libgomp: Invalid value for environment variable OMP_NUM_THREADS\n"
          ]
        }
      ],
      "source": [
        "values = []\n",
        "for i in I:\n",
        "    cpu_0 = time.process_time()\n",
        "    #Execution\n",
        "    !export OMP_NUM_THREADS=i; ./Exercice1\n",
        "    #CPU time\n",
        "    cpu_1 = time.process_time()\n",
        "    cpu = cpu_1 - cpu_0\n",
        "    values.append(cpu)"
      ]
    },
    {
      "cell_type": "code",
      "execution_count": null,
      "id": "cad993f6",
      "metadata": {
        "id": "cad993f6",
        "outputId": "133663d1-4212-402f-9739-0573e9d22e03"
      },
      "outputs": [
        {
          "data": {
            "text/plain": [
              "Text(0, 0.5, 'time')"
            ]
          },
          "execution_count": 40,
          "metadata": {},
          "output_type": "execute_result"
        },
        {
          "data": {
            "image/png": "[encoded data removed]",
            "text/plain": [
              "<Figure size 432x288 with 1 Axes>"
            ]
          },
          "metadata": {
            "needs_background": "light"
          },
          "output_type": "display_data"
        }
      ],
      "source": [
        "plt.plot(I,values)\n",
        "plt.xlabel(\"number of threads\")\n",
        "plt.ylabel(\"time\")"
      ]
    },
    {
      "cell_type": "markdown",
      "id": "b48c863d",
      "metadata": {
        "id": "b48c863d"
      },
      "source": [
        "## Exercise 2:"
      ]
    },
    {
      "cell_type": "code",
      "execution_count": null,
      "id": "544e3351",
      "metadata": {
        "id": "544e3351"
      },
      "outputs": [],
      "source": [
        "nx = 41\n",
        "ny = 41\n",
        "nt = 500\n",
        "nit = 50\n",
        "c = 1\n",
        "dx = 2 / (nx - 1)\n",
        "dy = 2 / (ny - 1)\n",
        "x = np.linspace(0, 2, nx)\n",
        "y = np.linspace(0, 2, ny)\n",
        "X, Y = np.meshgrid(x, y)\n",
        "\n",
        "rho = 1\n",
        "nu = .1\n",
        "dt = .001\n",
        "\n",
        "u = np.zeros((ny, nx))\n",
        "v = np.zeros((ny, nx))\n",
        "un = np.ones((ny, nx))\n",
        "vn = np.ones((ny, nx))\n",
        "p = np.zeros((ny, nx))\n",
        "pn = np.ones((ny, nx)) \n",
        "b = np.zeros((ny, nx))"
      ]
    },
    {
      "cell_type": "markdown",
      "id": "87d28596",
      "metadata": {
        "id": "87d28596"
      },
      "source": [
        "## The Navier Stocks Function using Pyccel"
      ]
    },
    {
      "cell_type": "code",
      "execution_count": null,
      "id": "2e685b90",
      "metadata": {
        "id": "2e685b90"
      },
      "outputs": [],
      "source": [
        "def cavity_flow_pyc(b: 'float[:,:]',nt:'int', u: 'float[:,:]', v: 'float[:,:]', dt: 'float', nx: 'int', ny: 'int', dx: 'float', dy: 'float', p: 'float[:,:]', rho: 'int', nu:'float',un: 'float[:,:]',vn: 'float[:,:]',pn: 'float[:,:]'):\n",
        "    \n",
        "    row,col = u.shape\n",
        "    \n",
        "    \n",
        "    for n in range(nt):\n",
        "        for i in range(row):\n",
        "            for j in range(col):\n",
        "                un[i,j] = u[i,j]\n",
        "                vn[i,j] = v [i,j]\n",
        "                pn[i,j] = p [i,j]\n",
        "                \n",
        "        \n",
        "        b[1:-1, 1:-1] = (rho * (1 / dt * ((u[1:-1, 2:] - u[1:-1, 0:-2]) / \n",
        "                    (2 * dx) + (v[2:, 1:-1] - v[0:-2, 1:-1]) / (2 * dy)) -\n",
        "                    ((u[1:-1, 2:] - u[1:-1, 0:-2]) / (2 * dx))**2 -\n",
        "                      2 * ((u[2:, 1:-1] - u[0:-2, 1:-1]) / (2 * dy) *\n",
        "                           (v[1:-1, 2:] - v[1:-1, 0:-2]) / (2 * dx))-\n",
        "                          ((v[2:, 1:-1] - v[0:-2, 1:-1]) / (2 * dy))**2))\n",
        "              \n",
        "        p[1:-1, 1:-1] = (((pn[1:-1, 2:] + pn[1:-1, 0:-2]) * dy**2 + \n",
        "                          (pn[2:, 1:-1] + pn[0:-2, 1:-1]) * dx**2) /\n",
        "                          (2 * (dx**2 + dy**2)) -\n",
        "                          dx**2 * dy**2 / (2 * (dx**2 + dy**2)) * \n",
        "                          b[1:-1,1:-1])\n",
        "\n",
        "        p[:, -1] = p[:, -2] # dp/dx = 0 at x = 2\n",
        "        p[0, :] = p[1, :]   # dp/dy = 0 at y = 0\n",
        "        p[:, 0] = p[:, 1]   # dp/dx = 0 at x = 0\n",
        "        p[-1, :] = 0 \n",
        "        # Update U   \n",
        "        u[1:-1, 1:-1] = (un[1:-1, 1:-1]-\n",
        "                        un[1:-1, 1:-1] * dt / dx *\n",
        "                    (un[1:-1, 1:-1] - un[1:-1, 0:-2]) -\n",
        "                        vn[1:-1, 1:-1] * dt / dy *\n",
        "                    (un[1:-1, 1:-1] - un[0:-2, 1:-1]) -\n",
        "                        dt / (2 * rho * dx) * (p[1:-1, 2:] - p[1:-1, 0:-2]) +\n",
        "                        nu * (dt / dx**2 *\n",
        "                    (un[1:-1, 2:] - 2 * un[1:-1, 1:-1] + un[1:-1, 0:-2]) +\n",
        "                        dt / dy**2 *\n",
        "                    (un[2:, 1:-1] - 2 * un[1:-1, 1:-1] + un[0:-2, 1:-1])))\n",
        "        # Update V\n",
        "        v[1:-1,1:-1] = (vn[1:-1, 1:-1] -\n",
        "                    un[1:-1, 1:-1] * dt / dx *\n",
        "                    (vn[1:-1, 1:-1] - vn[1:-1, 0:-2]) -\n",
        "                    vn[1:-1, 1:-1] * dt / dy *\n",
        "                    (vn[1:-1, 1:-1] - vn[0:-2, 1:-1]) -\n",
        "                    dt / (2 * rho * dy) * (p[2:, 1:-1] - p[0:-2, 1:-1]) +\n",
        "                    nu * (dt / dx**2 *\n",
        "                    (vn[1:-1, 2:] - 2 * vn[1:-1, 1:-1] + vn[1:-1, 0:-2]) +\n",
        "                    dt / dy**2 *\n",
        "                    (vn[2:, 1:-1] - 2 * vn[1:-1, 1:-1] + vn[0:-2, 1:-1])))\n",
        "\n",
        "    u[0, :]  = 0\n",
        "    u[:, 0]  = 0\n",
        "    u[:, -1] = 0\n",
        "    u[-1, :] = 1    \n",
        "    v[0, :]  = 0\n",
        "    v[-1, :] = 0\n",
        "    v[:, 0]  = 0\n",
        "    v[:, -1] = 0\n",
        "        \n",
        "        "
      ]
    },
    {
      "cell_type": "code",
      "execution_count": null,
      "id": "52d9dc42",
      "metadata": {
        "id": "52d9dc42"
      },
      "outputs": [],
      "source": [
        "cavity_flow_pyccel = epyccel(cavity_flow_pyc)"
      ]
    },
    {
      "cell_type": "code",
      "execution_count": null,
      "id": "7acde2ac",
      "metadata": {
        "id": "7acde2ac",
        "outputId": "2302b183-496a-41ea-caba-1150e586771e"
      },
      "outputs": [
        {
          "name": "stdout",
          "output_type": "stream",
          "text": [
            "CPU time       : 0.02543674100000004 \n",
            "\n"
          ]
        }
      ],
      "source": [
        "cpu_0 = time.process_time()\n",
        "cavity_flow_pyccel(b,nt, u, v, dt, nx, ny, dx, dy, p, rho, nu, un, vn, pn)\n",
        "cpu_1 = time.process_time()\n",
        "cpu = cpu_1 - cpu_0\n",
        "print(\"CPU time       :\", cpu,        '\\n')"
      ]
    },
    {
      "cell_type": "code",
      "execution_count": null,
      "id": "ddf1ee6a",
      "metadata": {
        "id": "ddf1ee6a",
        "outputId": "16df9b86-baea-44bf-e8d4-8d54c863c20e"
      },
      "outputs": [
        {
          "name": "stdout",
          "output_type": "stream",
          "text": [
            "Overwriting Exercice1.py\n"
          ]
        }
      ],
      "source": [
        "%%file Exercice1.py\n",
        "\n",
        "def cavity_flow_pyc(b: 'float[:,:]',nt:'int', u: 'float[:,:]', v: 'float[:,:]', dt: 'float', nx: 'int', ny: 'int', dx: 'float', dy: 'float', p: 'float[:,:]', rho: 'int', nu:'float',un: 'float[:,:]',vn: 'float[:,:]',pn: 'float[:,:]'):\n",
        "    row,col = u.shape\n",
        "    #$ omp parallel\n",
        "    for n in range(nt):\n",
        "        for i in range(row):\n",
        "            for j in range(col):\n",
        "                un[i,j] = u[i,j]\n",
        "                vn[i,j] = v [i,j]\n",
        "                pn[i,j] = p [i,j]\n",
        "                \n",
        "        \n",
        "        b[1:-1, 1:-1] = (rho * (1 / dt * ((u[1:-1, 2:] - u[1:-1, 0:-2]) / \n",
        "                    (2 * dx) + (v[2:, 1:-1] - v[0:-2, 1:-1]) / (2 * dy)) -\n",
        "                    ((u[1:-1, 2:] - u[1:-1, 0:-2]) / (2 * dx))**2 -\n",
        "                      2 * ((u[2:, 1:-1] - u[0:-2, 1:-1]) / (2 * dy) *\n",
        "                           (v[1:-1, 2:] - v[1:-1, 0:-2]) / (2 * dx))-\n",
        "                          ((v[2:, 1:-1] - v[0:-2, 1:-1]) / (2 * dy))**2))\n",
        "              \n",
        "        p[1:-1, 1:-1] = (((pn[1:-1, 2:] + pn[1:-1, 0:-2]) * dy**2 + \n",
        "                          (pn[2:, 1:-1] + pn[0:-2, 1:-1]) * dx**2) /\n",
        "                          (2 * (dx**2 + dy**2)) -\n",
        "                          dx**2 * dy**2 / (2 * (dx**2 + dy**2)) * \n",
        "                          b[1:-1,1:-1])\n",
        "\n",
        "        p[:, -1] = p[:, -2] # dp/dx = 0 at x = 2\n",
        "        p[0, :] = p[1, :]   # dp/dy = 0 at y = 0\n",
        "        p[:, 0] = p[:, 1]   # dp/dx = 0 at x = 0\n",
        "        p[-1, :] = 0 \n",
        "          \n",
        "        u[1:-1, 1:-1] = (un[1:-1, 1:-1]-\n",
        "                        un[1:-1, 1:-1] * dt / dx *\n",
        "                    (un[1:-1, 1:-1] - un[1:-1, 0:-2]) -\n",
        "                        vn[1:-1, 1:-1] * dt / dy *\n",
        "                    (un[1:-1, 1:-1] - un[0:-2, 1:-1]) -\n",
        "                        dt / (2 * rho * dx) * (p[1:-1, 2:] - p[1:-1, 0:-2]) +\n",
        "                        nu * (dt / dx**2 *\n",
        "                    (un[1:-1, 2:] - 2 * un[1:-1, 1:-1] + un[1:-1, 0:-2]) +\n",
        "                        dt / dy**2 *\n",
        "                    (un[2:, 1:-1] - 2 * un[1:-1, 1:-1] + un[0:-2, 1:-1])))\n",
        "        \n",
        "        v[1:-1,1:-1] = (vn[1:-1, 1:-1] -\n",
        "                    un[1:-1, 1:-1] * dt / dx *\n",
        "                    (vn[1:-1, 1:-1] - vn[1:-1, 0:-2]) -\n",
        "                    vn[1:-1, 1:-1] * dt / dy *\n",
        "                    (vn[1:-1, 1:-1] - vn[0:-2, 1:-1]) -\n",
        "                    dt / (2 * rho * dy) * (p[2:, 1:-1] - p[0:-2, 1:-1]) +\n",
        "                    nu * (dt / dx**2 *\n",
        "                    (vn[1:-1, 2:] - 2 * vn[1:-1, 1:-1] + vn[1:-1, 0:-2]) +\n",
        "                    dt / dy**2 *\n",
        "                    (vn[2:, 1:-1] - 2 * vn[1:-1, 1:-1] + vn[0:-2, 1:-1])))\n",
        "    #$ omp end parallel\n",
        "\n",
        "    u[0, :]  = 0\n",
        "    u[:, 0]  = 0\n",
        "    u[:, -1] = 0\n",
        "    u[-1, :] = 1    \n",
        "    v[0, :]  = 0\n",
        "    v[-1, :] = 0\n",
        "    v[:, 0]  = 0\n",
        "    v[:, -1] = 0\n",
        "    \n",
        "if __name__ == \"__main__\":\n",
        "    \n",
        "    import numpy as np\n",
        "\n",
        "    nx = 41\n",
        "    ny = 41\n",
        "    nt = 500\n",
        "    nit = 50\n",
        "    c = 1\n",
        "    dx = 2 / (nx - 1)\n",
        "    dy = 2 / (ny - 1)\n",
        "\n",
        "    rho = 1\n",
        "    nu = .1\n",
        "    dt = .001\n",
        "\n",
        "    u = np.zeros((ny, nx))\n",
        "    v = np.zeros((ny, nx))\n",
        "    un = np.ones((ny, nx))\n",
        "    vn = np.ones((ny, nx))\n",
        "    p = np.zeros((ny, nx))\n",
        "    pn = np.ones((ny, nx)) \n",
        "    b = np.zeros((ny, nx))\n",
        "    \n",
        "    cavity_flow_pyc(b,nt, u, v, dt, nx, ny, dx, dy, p, rho, nu,un,vn,pn)  "
      ]
    },
    {
      "cell_type": "code",
      "execution_count": null,
      "id": "3233dcd8",
      "metadata": {
        "id": "3233dcd8"
      },
      "outputs": [],
      "source": [
        "!pyccel Ex1.py --language=c --openmp"
      ]
    },
    {
      "cell_type": "code",
      "execution_count": null,
      "id": "ba2f7783",
      "metadata": {
        "id": "ba2f7783",
        "outputId": "3ea4874b-e467-4fe0-cd21-31d0cb196394"
      },
      "outputs": [
        {
          "name": "stdout",
          "output_type": "stream",
          "text": [
            "CPU time       : 0.010888402000002628 \n",
            "\n"
          ]
        }
      ],
      "source": [
        "cpu_0 = time.process_time()\n",
        "!export OMP_NUM_THREADS=12; ./Exercice1\n",
        "cpu_1 = time.process_time()\n",
        "cpu = cpu_1 - cpu_0\n",
        "print(\"CPU time       :\", cpu,        '\\n')"
      ]
    },
    {
      "cell_type": "code",
      "execution_count": null,
      "id": "420cb9fc",
      "metadata": {
        "id": "420cb9fc",
        "outputId": "629d116c-869f-42e5-badf-d1cb78e0ce78"
      },
      "outputs": [
        {
          "name": "stdout",
          "output_type": "stream",
          "text": [
            "\n",
            "libgomp: Invalid value for environment variable OMP_NUM_THREADS\n",
            "\n",
            "libgomp: Invalid value for environment variable OMP_NUM_THREADS\n",
            "\n",
            "libgomp: Invalid value for environment variable OMP_NUM_THREADS\n",
            "\n",
            "libgomp: Invalid value for environment variable OMP_NUM_THREADS\n",
            "\n",
            "libgomp: Invalid value for environment variable OMP_NUM_THREADS\n",
            "\n",
            "libgomp: Invalid value for environment variable OMP_NUM_THREADS\n",
            "\n",
            "libgomp: Invalid value for environment variable OMP_NUM_THREADS\n"
          ]
        }
      ],
      "source": [
        "values = []\n",
        "for i in I:\n",
        "    cpu_0 = time.process_time()\n",
        "    !export OMP_NUM_THREADS=i; ./Exercice1\n",
        "    cpu_1 = time.process_time()\n",
        "    cpu = cpu_1 - cpu_0\n",
        "    values.append(cpu)"
      ]
    },
    {
      "cell_type": "code",
      "execution_count": null,
      "id": "8c1fe51c",
      "metadata": {
        "id": "8c1fe51c",
        "outputId": "d02e2625-344a-4ae3-8a26-6740f345597e"
      },
      "outputs": [
        {
          "data": {
            "text/plain": [
              "Text(0, 0.5, 'time')"
            ]
          },
          "execution_count": 88,
          "metadata": {},
          "output_type": "execute_result"
        },
        {
          "data": {
            "image/png": "[encoded data removed]",
            "text/plain": [
              "<Figure size 432x288 with 1 Axes>"
            ]
          },
          "metadata": {
            "needs_background": "light"
          },
          "output_type": "display_data"
        }
      ],
      "source": [
        "plt.plot(I,values)\n",
        "plt.xlabel(\"number of threads\")\n",
        "plt.ylabel(\"time\")"
      ]
    }
  ],
  "metadata": {
    "kernelspec": {
      "display_name": "Python 3 (ipykernel)",
      "language": "python",
      "name": "python3"
    },
    "language_info": {
      "codemirror_mode": {
        "name": "ipython",
        "version": 3
      },
      "file_extension": ".py",
      "mimetype": "text/x-python",
      "name": "python",
      "nbconvert_exporter": "python",
      "pygments_lexer": "ipython3",
      "version": "3.9.7"
    },
    "colab": {
      "name": "openmp_part2_youssef.ipynb",
      "provenance": [],
      "collapsed_sections": []
    }
  },
  "nbformat": 4,
  "nbformat_minor": 5
}