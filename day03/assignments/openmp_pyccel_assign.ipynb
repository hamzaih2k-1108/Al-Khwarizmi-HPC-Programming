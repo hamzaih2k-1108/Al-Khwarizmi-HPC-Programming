{
  "cells": [
    {
      "cell_type": "markdown",
      "id": "f03849c1",
      "metadata": {
        "id": "f03849c1"
      },
      "source": [
        "*Note: all those exercises should be done using python with pyccel openmp*"
      ]
    },
    {
      "cell_type": "markdown",
      "id": "a2db4b9c",
      "metadata": {
        "id": "a2db4b9c"
      },
      "source": [
        "## Exercise 1 Hello World\n",
        "\n",
        "1. Write an OpenMP program displaying the number of threads used for the execution and the rank of each of the threads.\n",
        "3. Test the programs obtained with different numbers of threads for the parallel program.\n",
        "\n",
        "**Output Example**\n",
        "```shell\n",
        ">> Python hello.py\n",
        "Hello from the rank 2 thread\n",
        "Hello from the rank 0 thread\n",
        "Hello from the rank 3 thread\n",
        "Hello from the rank 1 thread\n",
        "Hello from the rank 4 thread\n",
        "Parallel execution of hello_world with 4 threads\n",
        "```\n",
        "*Note that the output order maybe different*"
      ]
    },
    {
      "cell_type": "code",
      "execution_count": null,
      "id": "7a1400d8",
      "metadata": {
        "id": "7a1400d8"
      },
      "outputs": [],
      "source": [
        "import numpy as np\n",
        "import time\n",
        "from pyccel.epyccel import epyccel\n",
        "from pyccel.decorators import types"
      ]
    },
    {
      "cell_type": "code",
      "execution_count": null,
      "id": "a7eeb409",
      "metadata": {
        "id": "a7eeb409",
        "outputId": "fc99dda5-d7af-450a-9bab-a56ac2c885d5"
      },
      "outputs": [
        {
          "name": "stdout",
          "output_type": "stream",
          "text": [
            "Overwriting hello.py\n"
          ]
        }
      ],
      "source": [
        "%%file hello.py\n",
        "from pyccel.stdlib.internal.openmp import omp_set_num_threads, omp_set_dynamic\n",
        "from pyccel.decorators import types\n",
        "from pyccel.stdlib.internal.openmp import omp_set_num_threads, omp_get_num_threads, omp_get_thread_num\n",
        "\n",
        "@types('int')\n",
        "def get_num_threads(n):\n",
        "    #omp_set_dynamic(0)\n",
        "    omp_set_num_threads(int(n))\n",
        "    #$ omp parallel\n",
        "    print(\"Hello from this$ omp end parallele rank \", int(omp_get_thread_num()),\" thread\")\n",
        "    result = omp_get_num_threads()\n",
        "    #$ omp end parallel\n",
        "    \n",
        "    return result\n",
        "\n",
        "if __name__ == \"__main__\" :\n",
        "    x = get_num_threads(10)\n",
        "    print(\"parallel execution of hello_world with \",x , \"threads\")"
      ]
    },
    {
      "cell_type": "code",
      "execution_count": null,
      "id": "977be3f7",
      "metadata": {
        "id": "977be3f7"
      },
      "outputs": [],
      "source": [
        "!pyccel hello.py --language=c --openmp"
      ]
    },
    {
      "cell_type": "code",
      "execution_count": null,
      "id": "588a6cfa",
      "metadata": {
        "id": "588a6cfa",
        "outputId": "1e35e94e-9c7c-4a00-c7fc-ae96e0eacf1a"
      },
      "outputs": [
        {
          "name": "stdout",
          "output_type": "stream",
          "text": [
            "Hello from this$ omp end parallele rank  1  thread\r\n",
            "Hello from this$ omp end parallele rank  2  thread\r\n",
            "Hello from this$ omp end parallele rank  3  thread\r\n",
            "Hello from this$ omp end parallele rank  4  thread\r\n",
            "Hello from this$ omp end parallele rank  5  thread\r\n",
            "Hello from this$ omp end parallele rank  6  thread\r\n",
            "Hello from this$ omp end parallele rank  7  thread\r\n",
            "Hello from this$ omp end parallele rank  8  thread\r\n",
            "Hello from this$ omp end parallele rank  9  thread\r\n",
            "Hello from this$ omp end parallele rank  0  thread\r\n",
            "parallel execution of hello_world with  10 threads\r\n"
          ]
        }
      ],
      "source": [
        "!./hello"
      ]
    },
    {
      "cell_type": "markdown",
      "id": "0ee0d684",
      "metadata": {
        "id": "0ee0d684"
      },
      "source": [
        "## Exercise 2 Matrix product"
      ]
    },
    {
      "cell_type": "code",
      "execution_count": null,
      "id": "e94defd2",
      "metadata": {
        "id": "e94defd2",
        "outputId": "3d51459b-7b3d-451c-90b1-11d08309e305"
      },
      "outputs": [
        {
          "name": "stdout",
          "output_type": "stream",
          "text": [
            "CPU times: user 9.63 ms, sys: 262 µs, total: 9.89 ms\n",
            "Wall time: 9.57 ms\n"
          ]
        }
      ],
      "source": [
        "def matrix_prod(A, B, C, N, M):\n",
        "    \n",
        "    for i in range( M ):\n",
        "        for j in range( N ):\n",
        "            A[ i, j ] = (i + 1) + (j + 1)\n",
        "\n",
        "    \n",
        "    for i in range( N ):\n",
        "        for j in range( M ):\n",
        "            B[ i, j ] = (i + 1) - (j + 1)\n",
        "\n",
        "    \n",
        "    for i in range( M ):\n",
        "        for j in range( M ):\n",
        "            C[ i, j ] = 0\n",
        "\n",
        "    \n",
        "    for i in range( M ):\n",
        "        for j in range( M ):\n",
        "            for k in range( N ):\n",
        "                C[ i, j ] += A[ i, k ] * B[ k, j ]\n",
        "\n",
        "if __name__ == \"__main__\":\n",
        "    import numpy as np\n",
        "    import time\n",
        "    import math\n",
        "\n",
        "    M = 20\n",
        "    N = 20\n",
        "\n",
        "    A = np.empty((M, N), dtype=np.double)\n",
        "    B = np.empty((N, M), dtype=np.double)\n",
        "    C = np.empty((M, M), dtype=np.double)\n",
        "\n",
        "%time matrix_prod(A,B,C,N,M)"
      ]
    },
    {
      "cell_type": "markdown",
      "id": "5379e56e",
      "metadata": {
        "id": "5379e56e"
      },
      "source": [
        "## Using pyccel"
      ]
    },
    {
      "cell_type": "code",
      "execution_count": null,
      "id": "7b2003e4",
      "metadata": {
        "id": "7b2003e4"
      },
      "outputs": [],
      "source": [
        "def matrix_prod_pyc(A : 'float[:,:]', B : 'float[:,:]', C:'float[:,:]', N : 'int', M :'int'):\n",
        "    \n",
        "    for i in range( M ):\n",
        "        for j in range( N ):\n",
        "            A[ i, j ] = (i + 1) + (j + 1)\n",
        "\n",
        "    \n",
        "    for i in range( N ):\n",
        "        for j in range( M ):\n",
        "            B[ i, j ] = (i + 1) - (j + 1)\n",
        "\n",
        "    \n",
        "    for i in range( M ):\n",
        "        for j in range( M ):\n",
        "            C[ i, j ] = 0\n",
        "\n",
        "    \n",
        "    for i in range( M ):\n",
        "        for j in range( M ):\n",
        "            for k in range( N ):\n",
        "                C[ i, j ] += A[ i, k ] * B[ k, j ]"
      ]
    },
    {
      "cell_type": "code",
      "execution_count": null,
      "id": "551a45a9",
      "metadata": {
        "id": "551a45a9"
      },
      "outputs": [],
      "source": [
        "import numpy as np\n",
        "import time\n",
        "import math\n",
        "\n",
        "M = 20\n",
        "N = 20\n",
        "\n",
        "A = np.empty((M, N), dtype=np.double)\n",
        "B = np.empty((N, M), dtype=np.double)\n",
        "C = np.empty((M, M), dtype=np.double) "
      ]
    },
    {
      "cell_type": "code",
      "execution_count": null,
      "id": "589ec17e",
      "metadata": {
        "id": "589ec17e",
        "outputId": "cd9ec3fe-b2ec-40a1-b8df-b1cd93398b16"
      },
      "outputs": [
        {
          "name": "stdout",
          "output_type": "stream",
          "text": [
            "CPU times: user 25 µs, sys: 5 µs, total: 30 µs\n",
            "Wall time: 33.6 µs\n"
          ]
        }
      ],
      "source": [
        "matrix_prod_pyccel = epyccel(matrix_prod_pyc)\n",
        "%time matrix_prod_pyccel(A,B,C,N,M)   "
      ]
    },
    {
      "cell_type": "markdown",
      "id": "4a776cad",
      "metadata": {
        "id": "4a776cad"
      },
      "source": [
        "## Using OpenMP "
      ]
    },
    {
      "cell_type": "code",
      "execution_count": null,
      "id": "1ac86fcf",
      "metadata": {
        "id": "1ac86fcf",
        "outputId": "98a66bca-7e8f-4ed5-b484-8595a16b0886"
      },
      "outputs": [
        {
          "name": "stdout",
          "output_type": "stream",
          "text": [
            "Overwriting matrice_prod.py\n"
          ]
        }
      ],
      "source": [
        "%%file matrice_prod.py\n",
        "from pyccel.stdlib.internal.openmp import omp_set_num_threads, omp_set_dynamic\n",
        "from pyccel.decorators import types\n",
        "from pyccel.stdlib.internal.openmp import omp_set_num_threads, omp_get_num_threads, omp_get_thread_num\n",
        "import numpy as np\n",
        "\n",
        "@types('int','int')\n",
        "def pro_mat_collaps(M,N):\n",
        "    #omp_set_dynamic(0)\n",
        "    #omp_set_num_threads(int(n))\n",
        "    \n",
        "    print (\"N = \", N,\"  M = \", M,\"\\n\" )\n",
        "    \n",
        "    A = np.empty((M, N))\n",
        "    B = np.empty((N, M))\n",
        "    C = np.empty((M, M))\n",
        "    \n",
        "    \n",
        "    #$ omp parallel\n",
        "    #$ omp for collapse(2)\n",
        "    for i in range(M):\n",
        "        for j in range(N):\n",
        "            A[ i, j ] = (i + 1) + (j + 1)\n",
        "    #$ omp end parallel\n",
        "    \n",
        "\n",
        "    #$ omp parallel\n",
        "    #$ omp for collapse(2)\n",
        "    for i in range(N):\n",
        "        for j in range(M):\n",
        "            B[ i, j ] = (i + 1) - (j + 1)\n",
        "    #$ omp end parallel\n",
        "\n",
        "    #$ omp parallel\n",
        "    #$ omp for collapse(2)\n",
        "    for i in range( M ):\n",
        "        for j in range( M ):\n",
        "            C[ i, j ] = 0\n",
        "    #$ omp end parallel\n",
        "\n",
        "    \n",
        "    #$ omp parallel\n",
        "    #$ omp for collapse (3)\n",
        "    for i in range( M ):\n",
        "        for j in range( M ):\n",
        "            for k in range( N ):\n",
        "                C[ i, j ] += A[ i, k ] * B[ k, j ]\n",
        "    result = omp_get_num_threads()\n",
        "    #$ omp end parallel\n",
        "   \n",
        "    return result\n",
        "\n",
        "if __name__ == \"__main__\" :\n",
        "\n",
        "    M = 20\n",
        "    N = 20\n",
        "    x = pro_mat_collaps(M,N)\n",
        "    print(\"Execution of Matrix production in parallele with  \",x , \"threads\\n\\n\")"
      ]
    },
    {
      "cell_type": "code",
      "execution_count": null,
      "id": "4378140c",
      "metadata": {
        "id": "4378140c"
      },
      "outputs": [],
      "source": [
        "!pyccel matrice_prod.py --language=c --openmp"
      ]
    },
    {
      "cell_type": "code",
      "execution_count": null,
      "id": "ad2a09a7",
      "metadata": {
        "id": "ad2a09a7",
        "outputId": "8543afc4-d397-4e1a-8f04-16819db48b83"
      },
      "outputs": [
        {
          "name": "stdout",
          "output_type": "stream",
          "text": [
            "N =  20   M =  20 \n",
            "\n",
            "Execution of Matrix production in parallele with   16 threads\n",
            "\n",
            "\n",
            "CPU times: user 4.27 ms, sys: 4.13 ms, total: 8.39 ms\n",
            "Wall time: 116 ms\n"
          ]
        }
      ],
      "source": [
        "%time !export OMP_NUM_THREADS=16; ./matrice_prod"
      ]
    },
    {
      "cell_type": "markdown",
      "id": "db729e9b",
      "metadata": {
        "id": "db729e9b"
      },
      "source": [
        "## Exercise 3 Jacobi method"
      ]
    },
    {
      "cell_type": "code",
      "execution_count": null,
      "id": "a8af86ef",
      "metadata": {
        "id": "a8af86ef",
        "outputId": "c727e894-9462-47a6-9d93-86da4db957fc"
      },
      "outputs": [
        {
          "name": "stdout",
          "output_type": "stream",
          "text": [
            "System size    : 20 \n",
            " Iterations     : 22 \n",
            " Stand          : 0.000600382935325167 \n",
            " Elapsed Time   : 0.6759302616119385 \n",
            " CPU time       : 0.0587195429999996 \n",
            "\n"
          ]
        }
      ],
      "source": [
        "import numpy as np\n",
        "import math,time\n",
        "import random, sys\n",
        "@types('float [:,:]','float [:]','float [:]','int','float')\n",
        "def jacobi(a ,b, x, n, eps):\n",
        "    x_courant = np.empty(n, dtype=np.double)\n",
        "    iteration = 0\n",
        "\n",
        "    #$ omp parallel\n",
        "    #pragma omp sections nowait\n",
        "    while(1):\n",
        "        \n",
        "        iteration += 1\n",
        "        \n",
        "        for i in range(n):\n",
        "            x_courant[i] = 0\n",
        "    #pragma omp section\n",
        "            for j in range(i):\n",
        "                x_courant[i] += a[ j, i ] * x[j]\n",
        "    #pragma omp end section\n",
        "    \n",
        "    #pragma omp section\n",
        "            for j in range(i + 1, n):\n",
        "                x_courant[i] += a[ j, i ] * x[j]\n",
        "    #pragma omp end section\n",
        "            x_courant[i] = (b[i] - x_courant[i]) / a[ i, i ]\n",
        "\n",
        "        # Convergence test\n",
        "        \n",
        "        absmax = 0.\n",
        "        for i in range(n):\n",
        "            curr = abs(x[i] - x_courant[i])\n",
        "            if curr > absmax:\n",
        "                absmax = curr\n",
        "        stand = absmax / n\n",
        "        if stand <= eps or iteration > n:\n",
        "            break\n",
        "\n",
        "        # copy x_courant into x\n",
        "        for i in range(n):\n",
        "            x [i] = x_courant[i]\n",
        "    \n",
        "    #pragma omp end sections\n",
        "    #$ omp end parallel    \n",
        "            \n",
        "    return stand, iteration\n",
        "\n",
        "\n",
        "if __name__ == \"__main__\":\n",
        "    n = 20\n",
        "    diag = 20\n",
        "\n",
        "    np.random.seed(421)  # for reproductibles results\n",
        "    a = np.random.uniform(0, 1, size=(n, n))\n",
        "    b = np.random.uniform(0, 1, size=n)\n",
        "\n",
        "    # We strengthen the main diagonal of the matrix\n",
        "    for i in range(n):\n",
        "        a[ i, i ] += diag\n",
        "\n",
        "    # Initial solution\n",
        "    x = np.ones(n, dtype=np.double)\n",
        "\n",
        "    # start CPU timing\n",
        "    cpu_0 = time.process_time()\n",
        "\n",
        "    # start Wall timing\n",
        "    elapsed_0 = time.time()\n",
        "\n",
        "    # Pyccelize jacobi function\n",
        "    from pyccel.epyccel import epyccel\n",
        "    p_jacobi = epyccel(jacobi, language='c', accelerators=['openmp'])\n",
        "\n",
        "    eps = sys.float_info.epsilon\n",
        "\n",
        "    # -------------------- Start computing ------------------\n",
        "    stand, iteration = p_jacobi(a, b, x, n, eps)\n",
        "    # ------------------ End computing ----------------\n",
        "\n",
        "    # CPU time\n",
        "    cpu_1 = time.process_time()\n",
        "    cpu = cpu_1 - cpu_0\n",
        "\n",
        "    # Wall timing\n",
        "    elapsed_1 = time.time()\n",
        "    elapsed = elapsed_1 - elapsed_0\n",
        "\n",
        "    print(\"System size    :\", n, '\\n',\"Iterations     :\", iteration,  '\\n',\"Stand          :\", stand,      '\\n',\"Elapsed Time   :\", elapsed,    '\\n',\"CPU time       :\", cpu,        '\\n')"
      ]
    },
    {
      "cell_type": "markdown",
      "id": "acd992ae",
      "metadata": {
        "id": "acd992ae"
      },
      "source": [
        "## Exercise 4 Calculation of π\n",
        "\n"
      ]
    },
    {
      "cell_type": "code",
      "execution_count": null,
      "id": "c2773e5e",
      "metadata": {
        "id": "c2773e5e",
        "outputId": "f304a49e-ba7b-4b89-b078-7498d1db7e50"
      },
      "outputs": [
        {
          "name": "stdout",
          "output_type": "stream",
          "text": [
            "Overwriting pi4.py\n"
          ]
        }
      ],
      "source": [
        "%%file pi4.py\n",
        "from pyccel.decorators import types\n",
        "\n",
        "\n",
        "def pi(n:'int'):\n",
        "    #$ omp parallel\n",
        "    h = float(1/n)\n",
        "    for k in range(100):\n",
        "        Pi_calc = 0.\n",
        "        for i in range(n):\n",
        "            x = h * (i + 0.5)\n",
        "            Pi_calc += 4.0 / (1. + x * x)\n",
        "\n",
        "        # omp atomic\n",
        "        Pi_calc = h * Pi_calc\n",
        "        \n",
        "    #omp end parallel\n",
        "    \n",
        "    return Pi_calc"
      ]
    },
    {
      "cell_type": "code",
      "execution_count": null,
      "id": "f142a73b",
      "metadata": {
        "id": "f142a73b",
        "outputId": "d6e64443-b04a-415f-a69e-e96b2777c06f"
      },
      "outputs": [
        {
          "name": "stdout",
          "output_type": "stream",
          "text": [
            "3.1416009869231254\n"
          ]
        }
      ],
      "source": [
        "from pi4 import *\n",
        "print(pi(100))"
      ]
    },
    {
      "cell_type": "code",
      "execution_count": null,
      "id": "0f8992ce",
      "metadata": {
        "id": "0f8992ce",
        "outputId": "df2b9a02-9d1a-4a96-ab45-5c6a6d9769f3"
      },
      "outputs": [
        {
          "name": "stdout",
          "output_type": "stream",
          "text": [
            "   Number of intervals        : 300 \n",
            "    | Pi_estime - Pi_calcule | : 9.259259248217688e-07 \n",
            "    Temps elapsed              : 0.0002646446228027344 \n",
            "    Temps CPU                  : 0.0002705879999993499 \n",
            "\n"
          ]
        }
      ],
      "source": [
        "import time, math\n",
        "from pyccel.decorators import types\n",
        "from pyccel.epyccel import epyccel\n",
        "@types('int')\n",
        "def pi_1(n):\n",
        "    \n",
        "    h = float(1/n)\n",
        "    #$ omp parallel\n",
        "    for k in range (100):\n",
        "        Pi_calc = 0.\n",
        "        for i in range (n):\n",
        "            x = h * (i + 0.5)\n",
        "            Pi_calc += 4.0 / (1. + x * x)\n",
        "        #$ omp atomic\n",
        "        Pi_calc = h * Pi_calc\n",
        "    #$ omp end parallel\n",
        "    \n",
        "    return Pi_calc\n",
        "\n",
        "\n",
        "if __name__ == '__main__':\n",
        "\n",
        "    n = 300\n",
        "\n",
        "    # Length of the integration interval\n",
        "    h = float(1 / n)\n",
        "\n",
        "    from pyccel.epyccel import epyccel\n",
        "\n",
        "    pyc_pi = epyccel(pi_1, language='c', accelerators=['openmp'])\n",
        "\n",
        "    # start timing\n",
        "    tcpu_0 = time.process_time() # CPU time\n",
        "    t_elapsed_0 = time.time()    # Wall time\n",
        "     #Start computing\n",
        "\n",
        "    Pi_calc = pyc_pi(n)\n",
        "\n",
        "    # End computing\n",
        "    # CPU time spent\n",
        "    tcpu_1 = time.process_time()\n",
        "    tcpu = tcpu_1 - tcpu_0\n",
        "\n",
        "    # Wall time spent\n",
        "    t_elapsed_1 = time.time()\n",
        "    t_elapsed = t_elapsed_1 - t_elapsed_0\n",
        "\n",
        "    # deviation between the estimated value and the calculated value of Pi\n",
        "    Pi_estime = math.acos(-1)\n",
        "    deviat = math.fabs(Pi_estime - Pi_calc)\n",
        "\n",
        "    # Print result\n",
        "    print(\"Number of intervals        :\", n,\"\\n\",\"Pi_estime - Pi_calcule  :\", deviat,\"\\n\",\"Temps elapsed              :\", t_elapsed, \"\\n\",\"Temps CPU                  :\", tcpu,)"
      ]
    },
    {
      "cell_type": "markdown",
      "id": "54e9a63a",
      "metadata": {
        "id": "54e9a63a"
      },
      "source": [
        "## Exercise 5 Reduction of an array\n"
      ]
    },
    {
      "cell_type": "code",
      "execution_count": null,
      "id": "e116d2f7",
      "metadata": {
        "id": "e116d2f7",
        "outputId": "512c684f-a021-4a87-ab03-38c7a526fe24"
      },
      "outputs": [
        {
          "name": "stdout",
          "output_type": "stream",
          "text": [
            "Writing initial.py\n"
          ]
        }
      ],
      "source": [
        "%%file initial.py\n",
        "\n",
        "def initialize_table(tab, nmolec, n, nmol):\n",
        "    for k in range(nmolec):\n",
        "        for j in range(n):\n",
        "            for i in range(nmol):\n",
        "                tab[ i,j,k ] = i + j + k"
      ]
    },
    {
      "cell_type": "code",
      "execution_count": null,
      "id": "9b9fdd28",
      "metadata": {
        "id": "9b9fdd28",
        "outputId": "c03d1f3a-d73b-4d4e-a1a6-63e03fc575a4"
      },
      "outputs": [
        {
          "name": "stdout",
          "output_type": "stream",
          "text": [
            "Overwriting reduction_tab1.py\n"
          ]
        }
      ],
      "source": [
        "%%file reduction_tab1.py\n",
        "\n",
        "from pyccel.stdlib.internal.openmp import omp_get_thread_num\n",
        "from pyccel.decorators import types\n",
        "\n",
        "\n",
        "\n",
        "\n",
        "def reduction(tab:'float [:,:]', tab1 : 'float [:]', tab2 : 'float [:]', nmolec :'int', nmol:'int', n:'int'):\n",
        "    for k in range(nmolec):\n",
        "        tab1[:nmol] = 0\n",
        "        for j in range(n):\n",
        "            for i in range(nmol):\n",
        "                tab1[i] = tab1[i] + tab[i,j]\n"
      ]
    },
    {
      "cell_type": "code",
      "execution_count": null,
      "id": "659bd746",
      "metadata": {
        "scrolled": true,
        "id": "659bd746",
        "outputId": "5215f9da-eb8c-4190-bc95-2035eff6defb"
      },
      "outputs": [
        {
          "name": "stdout",
          "output_type": "stream",
          "text": [
            "Temps elapsed  : 0.036789894104003906 \n",
            " Temps CPU      : 0.03671308700000031 \n",
            " Erreur relative: 0.0 \n",
            "\n"
          ]
        }
      ],
      "source": [
        "from os import error\n",
        "\n",
        "if __name__ == '__main__':\n",
        "    import numpy as np\n",
        "    import time\n",
        "\n",
        "    # default dimension\n",
        "    nmolec = 100\n",
        "    nmol   = 100\n",
        "    n      = 10\n",
        "\n",
        "    tab     = np.empty((nmol, n, nmolec), dtype=np.double)\n",
        "    tab1    = np.empty((nmol), dtype=np.double)\n",
        "    tab2    = np.zeros((nmol), dtype=np.double)\n",
        "\n",
        "    # pyccelize reduction tab module\n",
        "    from pyccel.epyccel import epyccel\n",
        "    from  reduction_tab1 import reduction\n",
        "    from initial import initialize_table\n",
        "    \n",
        "    reduction_p = epyccel(reduction, language='c', accelerators=['openmp'])\n",
        "\n",
        "    initialize_table(tab, nmol, n, nmolec)\n",
        "\n",
        "    # start timing\n",
        "    tcpu_0 = time.process_time() \n",
        "    t_elapsed_0 = time.time()    \n",
        "\n",
        "    # Start computing\n",
        "    reduction(tab, tab1, tab2, nmolec, nmol, n)\n",
        "    # End computing\n",
        "\n",
        "    # CPU time spent\n",
        "    tcpu_1 = time.process_time()\n",
        "    tcpu = tcpu_1 - tcpu_0\n",
        "\n",
        "    # Wall time spent\n",
        "    t_elapsed_1 = time.time()\n",
        "    t_elapsed = t_elapsed_1 - t_elapsed_0\n",
        "\n",
        "    # verification of results\n",
        "    tab2c = np.zeros((nmol), dtype=np.double)\n",
        "    for k in range(nmolec):\n",
        "        tab1c = np.zeros((nmol), dtype=np.double)\n",
        "        for j in range(n):\n",
        "            for i in range(nmol):\n",
        "                tab1c[i] = tab1c[i] + tab[i, j, k]\n",
        "        tab2c [:] = tab2c[:nmol] + 2 * tab1c[:]\n",
        "    err = np.max(np.abs(tab2c - tab2) / np.abs(tab2c))\n",
        "    print(\"Temps elapsed  :\", t_elapsed   , \"\\n\",\"Temps CPU      :\", tcpu        , \"\\n\",\"Erreur relative:\", err         , \"\\n\")"
      ]
    },
    {
      "cell_type": "code",
      "execution_count": null,
      "id": "7b5b9282",
      "metadata": {
        "id": "7b5b9282",
        "outputId": "505c2b94-6c92-499b-97a0-6f0cf3630c4e"
      },
      "outputs": [
        {
          "data": {
            "text/plain": [
              "function"
            ]
          },
          "execution_count": 8,
          "metadata": {},
          "output_type": "execute_result"
        }
      ],
      "source": [
        "import reduction_tab1\n",
        "type(reduction)"
      ]
    },
    {
      "cell_type": "markdown",
      "id": "4045d2e1",
      "metadata": {
        "id": "4045d2e1"
      },
      "source": [
        "# Exercise 6 Matrix product by the Strassen algorithm"
      ]
    },
    {
      "cell_type": "code",
      "execution_count": null,
      "id": "e148afce",
      "metadata": {
        "id": "e148afce",
        "outputId": "602e48f4-f212-4c26-9aa3-49f4f4c5cad4"
      },
      "outputs": [
        {
          "data": {
            "text/plain": [
              "0"
            ]
          },
          "execution_count": 7,
          "metadata": {},
          "output_type": "execute_result"
        }
      ],
      "source": [
        "20 & 1"
      ]
    },
    {
      "cell_type": "code",
      "execution_count": null,
      "id": "bd9c8a80",
      "metadata": {
        "id": "bd9c8a80",
        "outputId": "8dd3a8c2-fa62-4bc2-c507-f3c242775c66"
      },
      "outputs": [
        {
          "name": "stdout",
          "output_type": "stream",
          "text": [
            "   Erreur        : 4.117930793327016e-15 \n",
            "    Temps elapsed : 0.0004563331604003906 \n",
            "    Temps CPU     : 0.0012285329999990324 \n",
            "\n"
          ]
        }
      ],
      "source": [
        "import time, math\n",
        "import numpy as np\n",
        "from pyccel.epyccel import epyccel\n",
        "from pyccel.decorators import types\n",
        "from pyccel.stdlib.internal.openmp import omp_set_num_threads, omp_get_num_threads, omp_get_thread_num\n",
        "\n",
        "\n",
        "def strassen_multiply(A: 'float[:,:]', B :  'float[:,:]', C :  'float[:,:]', n:'int'):\n",
        "\n",
        "    \n",
        "    import numpy as np\n",
        "    \n",
        "    \n",
        "    if n & 1 != 0  or n < 12:\n",
        "        C[:] = np.matmul(A, B)\n",
        "    else:\n",
        "        n2 = n // 2\n",
        "        \n",
        "       \n",
        "        A11 = A[ 0:n2, 0:n2 ]\n",
        "        A21 = A[ n2:n, 0:n2 ]\n",
        "        A12 = A[ 0:n2, n2:n ]\n",
        "        A22 = A[ n2:n, n2:n ]\n",
        "        B11 = B[ 0:n2, 0:n2 ]\n",
        "        B21 = B[ n2:n, 0:n2 ]\n",
        "        B12 = B[ 0:n2, n2:n ]\n",
        "        B22 = B[ n2:n, n2:n ]\n",
        "        \n",
        "        \n",
        "        Q1 = np.empty((n2, n2), dtype=np.double)\n",
        "        Q2 = np.empty((n2, n2), dtype=np.double)\n",
        "        Q3 = np.empty((n2, n2), dtype=np.double)\n",
        "        Q4 = np.empty((n2, n2), dtype=np.double)\n",
        "        Q5 = np.empty((n2, n2), dtype=np.double)\n",
        "        Q6 = np.empty((n2, n2), dtype=np.double)\n",
        "        Q7 = np.empty((n2, n2), dtype=np.double)\n",
        "        \n",
        "\n",
        "        #$ omp parallel\n",
        "            \n",
        "        #$ omp single    \n",
        "        strassen_multiply(A11+A22, B11+B22, Q1, n2)\n",
        "        #$ omp end single  \n",
        "        \n",
        "        #$ omp single  \n",
        "        strassen_multiply(A21+A22, B11, Q2, n2)\n",
        "        #$ omp end single \n",
        "        #$ omp single  \n",
        "        strassen_multiply(A11, B12-B22, Q3, n2)\n",
        "        #$ omp end single \n",
        "        #$ omp single  \n",
        "        strassen_multiply(A22, -B11+B21, Q4, n2)\n",
        "        #$ omp end single \n",
        "        #$ omp single  \n",
        "        strassen_multiply(A11+A12, B22, Q5, n2)\n",
        "        #$ omp end single \n",
        "        #$ omp single  \n",
        "        strassen_multiply(-A11+A21, B11+B12, Q6, n2)\n",
        "        #$ omp end single \n",
        "        #$ omp single  \n",
        "        strassen_multiply(A12-A22, B21+B22, Q7, n2)\n",
        "        \n",
        "        #$ omp end single \n",
        "        #res = omp_get_num_threads()\n",
        "        #$ omp end parallel\n",
        "        \n",
        "        C[   :n2,   :n2 ] = Q1+Q4-Q5+Q7\n",
        "        C[ n2: n,   :n2 ] = Q2+Q4\n",
        "        C[   :n2, n2:n  ] = Q3+Q5\n",
        "        C[ n2:n , n2:n  ] = Q1+Q3-Q2+Q6\n",
        "        \n",
        "        \n",
        "    \n",
        "\n",
        "\n",
        "def calcul_erreur(n, A, B, C):\n",
        "    D = np.matmul(A, B) \n",
        "    error = 0.0\n",
        "    for i in range(n):\n",
        "        for j in range(n):\n",
        "            e = C[ i, j ] - D[ i, j ]\n",
        "            error += e * e\n",
        "\n",
        "    error = math.sqrt(error) / n\n",
        "    return error\n",
        "\n",
        "if __name__ == '__main__':\n",
        "    n = 50\n",
        "\n",
        "    # Initialize Matrices\n",
        "    np.random.seed(421)\n",
        "    A = np.random.uniform(0, 1, (n, n))\n",
        "    B = np.random.uniform(0, 1, (n, n))\n",
        "    C = np.empty((n,n), dtype=np.double)\n",
        "\n",
        "    from pyccel.epyccel import epyccel\n",
        "    \n",
        "    strassen = epyccel(strassen_multiply, accelerators=['openmp'])\n",
        "    #num_threads = epyccel(threads_num, accelerators=['openmp'])\n",
        "    #print(\"Execution of Strassen in parallele with\", num_threads(), \"threads\")\n",
        "    \n",
        "    \n",
        "    # Start timing\n",
        "    tcpu_0 = time.process_time() # CPU time\n",
        "    t_elapsed_0 = time.time()    # Wall time\n",
        "    # -------------------- computing ------------------\n",
        "    # Calcul C=A*B par la methode recursive de Strassen\n",
        "    strassen(A, B, C, n)\n",
        "    # ------------------ end computing ----------------\n",
        "    # CPU time spent\n",
        "    tcpu_1 = time.process_time()\n",
        "    tcpu = tcpu_1 - tcpu_0\n",
        "\n",
        "    # Wall time spent\n",
        "    t_elapsed_1 = time.time()\n",
        "    t_elapsed = t_elapsed_1 - t_elapsed_0\n",
        "    print(\"   Erreur        :\", calcul_erreur(n, A, B, C),  \"\\n\",\"   Temps elapsed :\", t_elapsed,\"\\n\",\"   Temps CPU     :\", tcpu,\"\\n\",)"
      ]
    },
    {
      "cell_type": "code",
      "execution_count": null,
      "id": "31cd607d",
      "metadata": {
        "id": "31cd607d"
      },
      "outputs": [],
      "source": [
        ""
      ]
    }
  ],
  "metadata": {
    "kernelspec": {
      "display_name": "Python 3 (ipykernel)",
      "language": "python",
      "name": "python3"
    },
    "language_info": {
      "codemirror_mode": {
        "name": "ipython",
        "version": 3
      },
      "file_extension": ".py",
      "mimetype": "text/x-python",
      "name": "python",
      "nbconvert_exporter": "python",
      "pygments_lexer": "ipython3",
      "version": "3.9.7"
    },
    "colab": {
      "name": "openmp-pyccel_assign.ipynb",
      "provenance": [],
      "collapsed_sections": []
    }
  },
  "nbformat": 4,
  "nbformat_minor": 5
}