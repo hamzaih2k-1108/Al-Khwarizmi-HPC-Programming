{
  "cells": [
    {
      "cell_type": "markdown",
      "metadata": {
        "id": "LBn4xyHVZbxe"
      },
      "source": [
        "## Imports"
      ]
    },
    {
      "cell_type": "code",
      "source": [
        "pip install pyccel"
      ],
      "metadata": {
        "colab": {
          "base_uri": "https://localhost:8080/"
        },
        "id": "hvxNQIo1ZdL2",
        "outputId": "8e61eaa4-fa40-4bb9-cad3-17339b1a4e8d"
      },
      "execution_count": 1,
      "outputs": [
        {
          "output_type": "stream",
          "name": "stdout",
          "text": [
            "Collecting pyccel\n",
            "  Downloading pyccel-1.4.4-py3-none-any.whl (350 kB)\n",
            "\u001b[?25l\r\u001b[K     |█                               | 10 kB 14.0 MB/s eta 0:00:01\r\u001b[K     |█▉                              | 20 kB 19.0 MB/s eta 0:00:01\r\u001b[K     |██▉                             | 30 kB 11.1 MB/s eta 0:00:01\r\u001b[K     |███▊                            | 40 kB 8.7 MB/s eta 0:00:01\r\u001b[K     |████▊                           | 51 kB 6.0 MB/s eta 0:00:01\r\u001b[K     |█████▋                          | 61 kB 6.9 MB/s eta 0:00:01\r\u001b[K     |██████▌                         | 71 kB 7.3 MB/s eta 0:00:01\r\u001b[K     |███████▌                        | 81 kB 6.3 MB/s eta 0:00:01\r\u001b[K     |████████▍                       | 92 kB 7.0 MB/s eta 0:00:01\r\u001b[K     |█████████▍                      | 102 kB 7.2 MB/s eta 0:00:01\r\u001b[K     |██████████▎                     | 112 kB 7.2 MB/s eta 0:00:01\r\u001b[K     |███████████▎                    | 122 kB 7.2 MB/s eta 0:00:01\r\u001b[K     |████████████▏                   | 133 kB 7.2 MB/s eta 0:00:01\r\u001b[K     |█████████████                   | 143 kB 7.2 MB/s eta 0:00:01\r\u001b[K     |██████████████                  | 153 kB 7.2 MB/s eta 0:00:01\r\u001b[K     |███████████████                 | 163 kB 7.2 MB/s eta 0:00:01\r\u001b[K     |████████████████                | 174 kB 7.2 MB/s eta 0:00:01\r\u001b[K     |████████████████▉               | 184 kB 7.2 MB/s eta 0:00:01\r\u001b[K     |█████████████████▉              | 194 kB 7.2 MB/s eta 0:00:01\r\u001b[K     |██████████████████▊             | 204 kB 7.2 MB/s eta 0:00:01\r\u001b[K     |███████████████████▋            | 215 kB 7.2 MB/s eta 0:00:01\r\u001b[K     |████████████████████▋           | 225 kB 7.2 MB/s eta 0:00:01\r\u001b[K     |█████████████████████▌          | 235 kB 7.2 MB/s eta 0:00:01\r\u001b[K     |██████████████████████▌         | 245 kB 7.2 MB/s eta 0:00:01\r\u001b[K     |███████████████████████▍        | 256 kB 7.2 MB/s eta 0:00:01\r\u001b[K     |████████████████████████▎       | 266 kB 7.2 MB/s eta 0:00:01\r\u001b[K     |█████████████████████████▎      | 276 kB 7.2 MB/s eta 0:00:01\r\u001b[K     |██████████████████████████▏     | 286 kB 7.2 MB/s eta 0:00:01\r\u001b[K     |███████████████████████████▏    | 296 kB 7.2 MB/s eta 0:00:01\r\u001b[K     |████████████████████████████    | 307 kB 7.2 MB/s eta 0:00:01\r\u001b[K     |█████████████████████████████   | 317 kB 7.2 MB/s eta 0:00:01\r\u001b[K     |██████████████████████████████  | 327 kB 7.2 MB/s eta 0:00:01\r\u001b[K     |██████████████████████████████▉ | 337 kB 7.2 MB/s eta 0:00:01\r\u001b[K     |███████████████████████████████▉| 348 kB 7.2 MB/s eta 0:00:01\r\u001b[K     |████████████████████████████████| 350 kB 7.2 MB/s \n",
            "\u001b[?25hRequirement already satisfied: filelock in /usr/local/lib/python3.7/dist-packages (from pyccel) (3.6.0)\n",
            "Requirement already satisfied: termcolor in /usr/local/lib/python3.7/dist-packages (from pyccel) (1.1.0)\n",
            "Requirement already satisfied: numpy in /usr/local/lib/python3.7/dist-packages (from pyccel) (1.21.6)\n",
            "Collecting textx>=2.2\n",
            "  Downloading textX-3.0.0-py2.py3-none-any.whl (74 kB)\n",
            "\u001b[?25l\r\u001b[K     |████▍                           | 10 kB 28.9 MB/s eta 0:00:01\r\u001b[K     |████████▊                       | 20 kB 32.1 MB/s eta 0:00:01\r\u001b[K     |█████████████▏                  | 30 kB 38.3 MB/s eta 0:00:01\r\u001b[K     |█████████████████▌              | 40 kB 41.6 MB/s eta 0:00:01\r\u001b[K     |█████████████████████▉          | 51 kB 43.5 MB/s eta 0:00:01\r\u001b[K     |██████████████████████████▎     | 61 kB 46.7 MB/s eta 0:00:01\r\u001b[K     |██████████████████████████████▋ | 71 kB 48.5 MB/s eta 0:00:01\r\u001b[K     |████████████████████████████████| 74 kB 3.2 MB/s \n",
            "\u001b[?25hRequirement already satisfied: sympy>=1.2 in /usr/local/lib/python3.7/dist-packages (from pyccel) (1.7.1)\n",
            "Requirement already satisfied: mpmath>=0.19 in /usr/local/lib/python3.7/dist-packages (from sympy>=1.2->pyccel) (1.2.1)\n",
            "Requirement already satisfied: future in /usr/local/lib/python3.7/dist-packages (from textx>=2.2->pyccel) (0.16.0)\n",
            "Collecting Arpeggio>=2.0.0\n",
            "  Downloading Arpeggio-2.0.0-py2.py3-none-any.whl (54 kB)\n",
            "\u001b[K     |████████████████████████████████| 54 kB 2.8 MB/s \n",
            "\u001b[?25hInstalling collected packages: Arpeggio, textx, pyccel\n",
            "Successfully installed Arpeggio-2.0.0 pyccel-1.4.4 textx-3.0.0\n"
          ]
        }
      ]
    },
    {
      "cell_type": "code",
      "execution_count": 2,
      "metadata": {
        "id": "sXSIfmCFZbxj"
      },
      "outputs": [],
      "source": [
        "import numpy as np\n",
        "import matplotlib.pyplot as plt\n",
        "import time\n",
        "from numba import njit\n",
        "from pyccel import epyccel\n",
        "from pyccel.decorators import types"
      ]
    },
    {
      "cell_type": "markdown",
      "metadata": {
        "id": "Wmd7l5ywZbxl"
      },
      "source": [
        "## Pure python function"
      ]
    },
    {
      "cell_type": "code",
      "execution_count": 3,
      "metadata": {
        "id": "2nyribqDZbxl"
      },
      "outputs": [],
      "source": [
        "def solve_1d_nonlinearconv_pure(u, un, nt, nx, dt, dx):\n",
        "\n",
        "    for n in range(nt):  \n",
        "        for i in range (nx): un[i] = u[i] \n",
        "        for i in range(1, nx): \n",
        "            u[i] = un[i] - un[i] * dt / dx * (un[i] - un[i-1])\n",
        "    \n",
        "    return 0"
      ]
    },
    {
      "cell_type": "markdown",
      "metadata": {
        "id": "YZAfKyPnZbxm"
      },
      "source": [
        "## Numba accelerator"
      ]
    },
    {
      "cell_type": "code",
      "execution_count": 4,
      "metadata": {
        "id": "JZrbHNGrZbxm"
      },
      "outputs": [],
      "source": [
        "@njit(fastmath=True)\n",
        "def solve_1d_nonlinearconv_numba(u, un, nt, nx, dt, dx):\n",
        "\n",
        "    for n in range(nt):  \n",
        "        for i in range(nx): un[i] = u[i]\n",
        "        for i in range(1, nx): \n",
        "            u[i] = un[i] - un[i] * dt / dx * (un[i] - un[i-1])\n",
        "    \n",
        "    return 0"
      ]
    },
    {
      "cell_type": "markdown",
      "metadata": {
        "id": "lvMjVPblZbxn"
      },
      "source": [
        "## Pyccel accelerator"
      ]
    },
    {
      "cell_type": "code",
      "execution_count": 5,
      "metadata": {
        "id": "8ZYacf6KZbxn"
      },
      "outputs": [],
      "source": [
        "def solve_1d_nonlinearconv_pyccel(u:'float[:]', un:'float[:]', nt:'int', nx:'int', dt:'float', dx:'float'):\n",
        "\n",
        "    for n in range(nt):  \n",
        "        for i in range(nx): un[i] = u[i]\n",
        "        for i in range(1, nx): \n",
        "            u[i] = un[i] - un[i] * dt / dx * (un[i] - un[i-1])\n",
        "    \n",
        "    return 0"
      ]
    },
    {
      "cell_type": "markdown",
      "metadata": {
        "id": "5vZBJ8STZbxo"
      },
      "source": [
        "## Inputs"
      ]
    },
    {
      "cell_type": "code",
      "execution_count": 6,
      "metadata": {
        "colab": {
          "base_uri": "https://localhost:8080/",
          "height": 312
        },
        "id": "hgR4oC2nZbxp",
        "outputId": "8bc7a87f-e001-4e0f-8052-301468d46226"
      },
      "outputs": [
        {
          "output_type": "execute_result",
          "data": {
            "text/plain": [
              "Text(0.5, 1.0, '1D Linear Convection')"
            ]
          },
          "metadata": {},
          "execution_count": 6
        },
        {
          "output_type": "display_data",
          "data": {
            "text/plain": [
              "<Figure size 432x288 with 1 Axes>"
            ],
            "image/png": "[encoded data removed]"
          },
          "metadata": {
            "needs_background": "light"
          }
        }
      ],
      "source": [
        "nx = 81  # try changing this number from 41 to 81 and Run All ... what happens?\n",
        "dx = 2 / (nx-1)\n",
        "nt = 200    #nt is the number of timesteps we want to calculate\n",
        "dt = 0.001\n",
        "grid = np.linspace(0,2,nx) # creating the space grid    \n",
        "\n",
        "u0 = np.ones(nx)      #numpy function ones()\n",
        "u0[int(.5 / dx):int(1 / dx + 1)] = 2  #setting u = 2 between 0.5 and 1 as per our I.C.s\n",
        "plt.plot(grid,u0)\n",
        "u = u0.copy()\n",
        "un = np.ones(nx)\n",
        "\n",
        "solve_1d_nonlinearconv_pure(u, un, nt, nx, dt, dx)\n",
        "#Plotting data\n",
        "plt.plot(grid,u);\n",
        "plt.ylim([1.,2.2])\n",
        "plt.xlabel('X')\n",
        "plt.ylabel('Velocity')    \n",
        "plt.title('1D Linear Convection')"
      ]
    },
    {
      "cell_type": "markdown",
      "metadata": {
        "id": "0g0nilhoZbxq"
      },
      "source": [
        "## Call Funtions"
      ]
    },
    {
      "cell_type": "markdown",
      "metadata": {
        "id": "d0B3ekAlZbxq"
      },
      "source": [
        "### Pure function"
      ]
    },
    {
      "cell_type": "code",
      "execution_count": 7,
      "metadata": {
        "colab": {
          "base_uri": "https://localhost:8080/"
        },
        "id": "Oitx7fsUZbxq",
        "outputId": "66b51d31-f6d7-4844-8433-5665b70c92b0"
      },
      "outputs": [
        {
          "output_type": "stream",
          "name": "stdout",
          "text": [
            "100 loops, best of 5: 17 ms per loop\n"
          ]
        }
      ],
      "source": [
        "%timeit solve_1d_nonlinearconv_pure(u, un, nt, nx, dt, dx)"
      ]
    },
    {
      "cell_type": "markdown",
      "metadata": {
        "id": "g5BufBzWZbxr"
      },
      "source": [
        "### Function with numba accelerator"
      ]
    },
    {
      "cell_type": "code",
      "execution_count": 8,
      "metadata": {
        "colab": {
          "base_uri": "https://localhost:8080/"
        },
        "id": "u3io45glZbxr",
        "outputId": "f1746f52-1265-43da-b1bc-6b7115d9e865"
      },
      "outputs": [
        {
          "output_type": "stream",
          "name": "stdout",
          "text": [
            "The slowest run took 85210.78 times longer than the fastest. This could mean that an intermediate result is being cached.\n",
            "1 loop, best of 5: 6.61 µs per loop\n"
          ]
        }
      ],
      "source": [
        "%timeit solve_1d_nonlinearconv_numba(u, un, nt, nx, dt, dx)"
      ]
    },
    {
      "cell_type": "markdown",
      "metadata": {
        "id": "WIkzBEKiZbxr"
      },
      "source": [
        "### Function with pyccel accelerator"
      ]
    },
    {
      "cell_type": "code",
      "execution_count": 9,
      "metadata": {
        "colab": {
          "base_uri": "https://localhost:8080/",
          "height": 166
        },
        "id": "N0N2NVRWZbxs",
        "outputId": "d7cc516d-b9e1-4664-9b90-323ef9fe5ef6"
      },
      "outputs": [
        {
          "output_type": "error",
          "ename": "TypeError",
          "evalue": "ignored",
          "traceback": [
            "\u001b[0;31m---------------------------------------------------------------------------\u001b[0m",
            "\u001b[0;31mTypeError\u001b[0m                                 Traceback (most recent call last)",
            "\u001b[0;32m<ipython-input-9-ded7ab174c0c>\u001b[0m in \u001b[0;36m<module>\u001b[0;34m()\u001b[0m\n\u001b[0;32m----> 1\u001b[0;31m \u001b[0msolve_1d_nonlinearconv_f90\u001b[0m \u001b[0;34m=\u001b[0m \u001b[0mepyccel\u001b[0m\u001b[0;34m(\u001b[0m\u001b[0msolve_1d_nonlinearconv_pyccel\u001b[0m\u001b[0;34m)\u001b[0m\u001b[0;34m\u001b[0m\u001b[0;34m\u001b[0m\u001b[0m\n\u001b[0m",
            "\u001b[0;31mTypeError\u001b[0m: 'module' object is not callable"
          ]
        }
      ],
      "source": [
        "solve_1d_nonlinearconv_f90 = epyccel(solve_1d_nonlinearconv_pyccel)"
      ]
    },
    {
      "cell_type": "code",
      "execution_count": null,
      "metadata": {
        "id": "b5tQZAN1Zbxs",
        "outputId": "2835239c-1fb1-4ece-98ba-65c42842b635"
      },
      "outputs": [
        {
          "name": "stdout",
          "output_type": "stream",
          "text": [
            "283 µs ± 878 ns per loop (mean ± std. dev. of 7 runs, 1000 loops each)\n"
          ]
        }
      ],
      "source": [
        "%timeit solve_1d_nonlinearconv_f90(u, un, nt, nx, dt, dx)"
      ]
    }
  ],
  "metadata": {
    "kernelspec": {
      "display_name": "Python 3 (ipykernel)",
      "language": "python",
      "name": "python3"
    },
    "language_info": {
      "codemirror_mode": {
        "name": "ipython",
        "version": 3
      },
      "file_extension": ".py",
      "mimetype": "text/x-python",
      "name": "python",
      "nbconvert_exporter": "python",
      "pygments_lexer": "ipython3",
      "version": "3.10.1"
    },
    "colab": {
      "name": "1D_NonLinearConvection.ipynb",
      "provenance": []
    }
  },
  "nbformat": 4,
  "nbformat_minor": 0
}